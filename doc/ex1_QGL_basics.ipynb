{
 "cells": [
  {
   "cell_type": "markdown",
   "source": [
    "\n",
    "\n",
    "# Setup\n",
    "\n",
    "First, import the necessary modules from QGL. This will also import ``numpy`` into the namespace as ``np``. \n",
    "\n",
    "The AWGDir environment variable is used to indicate where QGL will store it's output sequence files. First we load the QGL module. It defaults to a temporary directory as provided by Python's tempfile module.\n"
   ],
   "metadata": {}
  },
  {
   "cell_type": "code",
   "execution_count": 1,
   "source": [
    "from QGL import *"
   ],
   "outputs": [],
   "metadata": {}
  },
  {
   "cell_type": "markdown",
   "source": [
    "Next we instantiate the channel library. By default bbndb will use an sqlite database at the location specified by the BBN_DB environment variabe, but we override this behavior below in order to use a specific filename. Also shown (but commented out) is the syntax for creating a temporary in-memory database for testing purposes.\n"
   ],
   "metadata": {}
  },
  {
   "cell_type": "code",
   "execution_count": 2,
   "source": [
    "cl = ChannelLibrary(\"example\")\r\n",
    "\r\n",
    "# This would be a temporary, in memory database\r\n",
    "# cl = ChannelLibrary(\":memory:\")555555555555555555"
   ],
   "outputs": [
    {
     "output_type": "stream",
     "name": "stdout",
     "text": [
      "Creating engine...\n"
     ]
    }
   ],
   "metadata": {}
  },
  {
   "cell_type": "markdown",
   "source": [
    "The channel library has a number of convenience functions defined to create instruments and qubits, as well as functions to define the relationships between them. Let us create a qubit first:\n"
   ],
   "metadata": {}
  },
  {
   "cell_type": "code",
   "execution_count": 3,
   "source": [
    "q1 = cl.new_qubit(\"q1\")"
   ],
   "outputs": [
    {
     "output_type": "stream",
     "name": "stderr",
     "text": [
      "A database item with the name q1 already exists. Updating parameters of this existing item instead.\n"
     ]
    }
   ],
   "metadata": {}
  },
  {
   "cell_type": "markdown",
   "source": [
    "In order to compile the QGL program into pulse sequences, we need to define a minimal hardware configuration. Basically, we need to specify AWG resources for output pulse compilation and digitizer resources for signal measurement.  "
   ],
   "metadata": {}
  },
  {
   "cell_type": "code",
   "execution_count": 4,
   "source": [
    "# Most calls required label and address. Let's define \r\n",
    "# an AWG for control pulse generation \r\n",
    "aps2_1 = cl.new_APS2(\"BBNAPS1\", address=\"192.168.2.2\") \r\n",
    "# an AWG for measurement pulse generation\r\n",
    "aps2_2 = cl.new_APS2(\"BBNAPS2\", address=\"192.168.2.3\")\r\n",
    "# and digitizer for measurement collection\r\n",
    "dig_1  = cl.new_X6(\"X6_1\", address=0)\r\n",
    "\r\n",
    "# Qubit q1 is controlled by AWG aps2_1\r\n",
    "cl.set_control(q1, aps2_1)\r\n",
    "# Qubit q1 is measured by AWG aps2_2 and digitizer dig_1\r\n",
    "cl.set_measure(q1, aps2_2, dig_1.ch(1))"
   ],
   "outputs": [
    {
     "output_type": "stream",
     "name": "stderr",
     "text": [
      "A database item with the name BBNAPS1 already exists. Updating parameters of this existing item instead.\n",
      "A database item with the name BBNAPS2 already exists. Updating parameters of this existing item instead.\n",
      "A database item with the name X6_1 already exists. Updating parameters of this existing item instead.\n",
      "The measurement M-q1 already exists: using this measurement.\n",
      "The Receiver trigger ReceiverTrig-q1 already exists: using this channel.\n"
     ]
    }
   ],
   "metadata": {}
  },
  {
   "cell_type": "markdown",
   "source": [
    "Commit the changes to the channel library."
   ],
   "metadata": {}
  },
  {
   "cell_type": "code",
   "execution_count": 5,
   "source": [
    "cl.commit()"
   ],
   "outputs": [],
   "metadata": {}
  },
  {
   "cell_type": "markdown",
   "source": [
    "# Basic sequence construction and plotting"
   ],
   "metadata": {}
  },
  {
   "cell_type": "markdown",
   "source": [
    "You can construct simple gate sequences by creating `Lists` of `Pulse` objects. These can be constructed by calling various primitives defined for qubits, for example, 90 and 180 degree rotations about X and Y:"
   ],
   "metadata": {}
  },
  {
   "cell_type": "code",
   "execution_count": 6,
   "source": [
    "seq1 = [[X(q1), Y(q1)]]\r\n",
    "seq2 = [[X90(q1),Y90(q1),X(q1),Id(q1),Y(q1)]]\r\n"
   ],
   "outputs": [],
   "metadata": {}
  },
  {
   "cell_type": "markdown",
   "source": [
    "This sequence of pulses can be plotted for visual review. First, you must compile the QGL into pulses based on the hardware defined above. Since our `Qubit` object is a quadrature channel, you see two colors corresponding to the I and Q control signals."
   ],
   "metadata": {}
  },
  {
   "cell_type": "code",
   "execution_count": null,
   "source": [
    "mf = compile_to_hardware(seq1, 'Test1')"
   ],
   "outputs": [],
   "metadata": {}
  },
  {
   "cell_type": "code",
   "execution_count": null,
   "source": [
    "plot_pulse_files(mf)"
   ],
   "outputs": [],
   "metadata": {}
  },
  {
   "cell_type": "markdown",
   "source": [
    "Now, let's plot the second sequence. "
   ],
   "metadata": {}
  },
  {
   "cell_type": "code",
   "execution_count": null,
   "source": [
    "mf = compile_to_hardware(seq2, 'Test2')\r\n",
    "plot_pulse_files(mf)"
   ],
   "outputs": [],
   "metadata": {}
  },
  {
   "cell_type": "markdown",
   "source": [
    "# Constructing more sophisticated sequences"
   ],
   "metadata": {}
  },
  {
   "cell_type": "markdown",
   "source": [
    "To get rotations of arbitrary angle (i.e., amplitude control of the pulse), you can use the \"theta\" primitive:"
   ],
   "metadata": {}
  },
  {
   "cell_type": "code",
   "execution_count": null,
   "source": [
    "seq = [[Xtheta(q1, 0.2), Xtheta(q1, 0.4), Xtheta(q1, 0.6), Xtheta(q1, 0.8), Xtheta(q1, 1.0)]]\r\n",
    "mf = compile_to_hardware(seq, 'Test')\r\n",
    "plot_pulse_files(mf)"
   ],
   "outputs": [],
   "metadata": {}
  },
  {
   "cell_type": "markdown",
   "source": [
    "To rotate about an arbitrary axis, use the \"U\" primitives:"
   ],
   "metadata": {}
  },
  {
   "cell_type": "code",
   "execution_count": null,
   "source": [
    "seq = [[U(q1, 0.0), U(q1, np.pi/8), U(q1, np.pi/4), U(q1, 3*np.pi/8), U(q1, np.pi/2)]]\r\n",
    "mf = compile_to_hardware(seq, 'Test')\r\n",
    "plot_pulse_files(mf)"
   ],
   "outputs": [],
   "metadata": {}
  },
  {
   "cell_type": "markdown",
   "source": [
    "Z rotations are performed in \"software:\" they act as frame changes on the following pulses."
   ],
   "metadata": {}
  },
  {
   "cell_type": "code",
   "execution_count": null,
   "source": [
    "seq = [[X(q1), Z90(q1), X(q1), Z90(q1), X(q1), Z90(q1), X(q1), Z90(q1), X(q1)]]\r\n",
    "mf = compile_to_hardware(seq, 'Test')\r\n",
    "plot_pulse_files(mf)"
   ],
   "outputs": [],
   "metadata": {}
  },
  {
   "cell_type": "markdown",
   "source": [
    "Sequences can act on multiple qubits, i.e., channels. Let's create another \"logical\" qubit channel as well as a \"physical\" channel."
   ],
   "metadata": {}
  },
  {
   "cell_type": "code",
   "execution_count": null,
   "source": [
    "q2 = cl.new_qubit(\"q2\")\r\n",
    "aps2_3 = cl.new_APS2(\"BBNAPS3\", address=\"192.168.5.103\")\r\n",
    "cl.set_control(q2, aps2_3)"
   ],
   "outputs": [],
   "metadata": {}
  },
  {
   "cell_type": "markdown",
   "source": [
    "When you plot a sequence with multiple logical channels, each channel (both I and Q) is plotted seperately."
   ],
   "metadata": {}
  },
  {
   "cell_type": "code",
   "execution_count": null,
   "source": [
    "seq = [[X(q1), X(q2), Y(q1), Y(q2)]]\r\n",
    "mf = compile_to_hardware(seq, 'Test')\r\n",
    "plot_pulse_files(mf)"
   ],
   "outputs": [],
   "metadata": {}
  },
  {
   "cell_type": "markdown",
   "source": [
    "One can express simultaneous operations with the `*` operator (meant to evoke a tensor product). If no operation is specified for a channel in a given time slot, an identity (no-op) operation is inserted."
   ],
   "metadata": {}
  },
  {
   "cell_type": "code",
   "execution_count": null,
   "source": [
    "seq = [[X(q1)*X(q2), X(q1)*Y(q2), Y(q1), X(q2)]]\r\n",
    "mf = compile_to_hardware(seq, 'Test')\r\n",
    "plot_pulse_files(mf)"
   ],
   "outputs": [],
   "metadata": {}
  },
  {
   "cell_type": "markdown",
   "source": [
    "# Constructing sequences with measurements\n",
    "\n",
    "Measurement pulses can be created with the `MEAS` primitive. Given a qubit X, the compiler finds the associated logical measurement channel and creates a `Pulse` on that channel. Note that a `Trigger` pulse for the digitizer is created along with the qubit measurement pulse. \n",
    "\n",
    "Remember, measurement channel was defined above with:   \n",
    "Qubit q1 is measured by AWG aps2_2 and digitizer dig_1   \n",
    "`cl.set_measure(q1, aps2_2, dig_1.ch(1))`   "
   ],
   "metadata": {}
  },
  {
   "cell_type": "code",
   "execution_count": null,
   "source": [
    "seq = [[MEAS(q1)]]\r\n",
    "mf = compile_to_hardware(seq, 'Test')\r\n",
    "plot_pulse_files(mf)"
   ],
   "outputs": [],
   "metadata": {}
  },
  {
   "cell_type": "markdown",
   "source": [
    "# Single-sideband modulation\n",
    "\n",
    "In order to prevent leakage at the source frequency, typically single-sideband (SSB) modulation with IQ mixers is used to generate both control and measurement pulses. "
   ],
   "metadata": {}
  },
  {
   "cell_type": "markdown",
   "source": [
    "For control pulses, we define the SSB frequency as\n",
    "`q1.frequency`. In the following example, you can set that parameter to a non-zero SSB to modulate the pulse envelope. "
   ],
   "metadata": {}
  },
  {
   "cell_type": "code",
   "execution_count": null,
   "source": [
    "q1.frequency = 50e6\r\n",
    "seq= [[X(q1), Y(q1)]]\r\n",
    "mf = compile_to_hardware(seq, 'Test')\r\n",
    "plot_pulse_files(mf)"
   ],
   "outputs": [],
   "metadata": {}
  },
  {
   "cell_type": "markdown",
   "source": [
    "For measurement pulses, we define the SSB frequency as \n",
    "\n",
    "`q1.measure_chan.autodyne_freq`\n",
    "\n",
    "Note that `autodyne_freq` is different from `frequency`. In the first case, the SSB frequency is baked directly in the pulse waveform, and is independent of the time when the pulse is applied. In the second case (normally used for the control SSB, see above), the actual pulse shape depends on the time when the pulse occurs. This is in order to maintain the phase reference allowing for arbitrary rotations around any transversal axis."
   ],
   "metadata": {}
  },
  {
   "cell_type": "code",
   "execution_count": null,
   "source": [
    "# set the modulation frequency\r\n",
    "cl[\"q1\"].measure_chan.autodyne_freq = 10e6\r\n",
    "\r\n",
    "seq = [[X(q1), MEAS(q1)]]\r\n",
    "mf = compile_to_hardware(seq, 'Test')\r\n",
    "plot_pulse_files(mf)"
   ],
   "outputs": [],
   "metadata": {}
  },
  {
   "cell_type": "markdown",
   "source": [
    "# Longer sequences using list comprehensions"
   ],
   "metadata": {}
  },
  {
   "cell_type": "markdown",
   "source": [
    "### Rabi amplitude\n",
    "Note the increasing amplitude with each sequence. "
   ],
   "metadata": {}
  },
  {
   "cell_type": "code",
   "execution_count": null,
   "source": [
    "seq = [[Xtheta(q1, a), MEAS(q1)] for a in np.linspace(0,2,11)]"
   ],
   "outputs": [],
   "metadata": {}
  },
  {
   "cell_type": "code",
   "execution_count": null,
   "source": [
    "mf = compile_to_hardware(seq, 'Test')\r\n",
    "plot_pulse_files(mf)"
   ],
   "outputs": [],
   "metadata": {}
  },
  {
   "cell_type": "markdown",
   "source": [
    "### T1\n",
    "Note the delay between the X pulse and the measurement. "
   ],
   "metadata": {}
  },
  {
   "cell_type": "code",
   "execution_count": null,
   "source": [
    "seq = [[X(q1), Id(q1, d), MEAS(q1)] for d in np.linspace(0, 10e-7, 11)]"
   ],
   "outputs": [],
   "metadata": {}
  },
  {
   "cell_type": "code",
   "execution_count": null,
   "source": [
    "mf = compile_to_hardware(seq, 'Test')\r\n",
    "plot_pulse_files(mf)"
   ],
   "outputs": [],
   "metadata": {}
  },
  {
   "cell_type": "markdown",
   "source": [
    "### Ramsey\n",
    "Note the varying delay between the X pulses prior to measurement. "
   ],
   "metadata": {}
  },
  {
   "cell_type": "code",
   "execution_count": null,
   "source": [
    "seq = [[X90(q1), Id(q1, delay), X90(q1), MEAS(q1)] for delay in np.linspace(0, 5e-7, 11)]"
   ],
   "outputs": [],
   "metadata": {}
  },
  {
   "cell_type": "code",
   "execution_count": null,
   "source": [
    "mf = compile_to_hardware(seq, 'Test')\r\n",
    "plot_pulse_files(mf)"
   ],
   "outputs": [],
   "metadata": {}
  }
 ],
 "metadata": {
  "kernelspec": {
   "name": "python3",
   "display_name": "Python 3.9.6 64-bit ('qglEnv': conda)"
  },
  "language_info": {
   "codemirror_mode": {
    "name": "ipython",
    "version": 3
   },
   "file_extension": ".py",
   "mimetype": "text/x-python",
   "name": "python",
   "nbconvert_exporter": "python",
   "pygments_lexer": "ipython3",
   "version": "3.9.6"
  },
  "interpreter": {
   "hash": "652afab92d2625c5791412d83f1444e53603c6cc2d2f546e5d0129839c39ffe7"
  }
 },
 "nbformat": 4,
 "nbformat_minor": 4
}