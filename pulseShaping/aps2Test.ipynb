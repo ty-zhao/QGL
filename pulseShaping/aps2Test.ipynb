{
 "cells": [
  {
   "cell_type": "code",
   "execution_count": 1,
   "source": [
    "run startup"
   ],
   "outputs": [
    {
     "output_type": "stream",
     "name": "stderr",
     "text": [
      "A database item with the name q1 already exists. Updating parameters of this existing item instead.\n",
      "A database item with the name q2 already exists. Updating parameters of this existing item instead.\n",
      "A database item with the name BBNAPS2_1 already exists. Updating parameters of this existing item instead.\n",
      "A database item with the name BBNAPS2_2 already exists. Updating parameters of this existing item instead.\n",
      "A database item with the name BBNAPS2_3 already exists. Updating parameters of this existing item instead.\n",
      "A database item with the name BBNAPS2_4 already exists. Updating parameters of this existing item instead.\n",
      "A database item with the name BBNAPS2_5 already exists. Updating parameters of this existing item instead.\n",
      "A database item with the name BBNAPS2_6 already exists. Updating parameters of this existing item instead.\n",
      "A database item with the name Alazar already exists. Updating parameters of this existing item instead.\n"
     ]
    },
    {
     "output_type": "stream",
     "name": "stdout",
     "text": [
      "Creating engine...\n"
     ]
    }
   ],
   "metadata": {}
  },
  {
   "cell_type": "code",
   "execution_count": 2,
   "source": [
    "seq1 = [[Utheta(q1, length=100e-9, amp=1, frequency=100e6, shape_fun='constant')]*10]*10"
   ],
   "outputs": [],
   "metadata": {}
  },
  {
   "cell_type": "code",
   "execution_count": 3,
   "source": [
    "mf = compile_to_hardware(seq1, 'Test1')"
   ],
   "outputs": [
    {
     "output_type": "stream",
     "name": "stdout",
     "text": [
      "Compiled 10 sequences.\n"
     ]
    }
   ],
   "metadata": {}
  },
  {
   "cell_type": "code",
   "execution_count": 4,
   "source": [
    "plot_pulse_files(mf)"
   ],
   "outputs": [
    {
     "output_type": "display_data",
     "data": {
      "application/vnd.jupyter.widget-view+json": {
       "version_major": 2,
       "version_minor": 0,
       "model_id": "aac390a8169447aba04b32ee0d2dfb4a"
      },
      "text/plain": [
       "VBox(children=(IntSlider(value=1, description='Segment', max=10, min=1), Figure(animation_duration=50, axes=[A…"
      ]
     },
     "metadata": {}
    }
   ],
   "metadata": {}
  },
  {
   "cell_type": "code",
   "execution_count": 9,
   "source": [
    "seq = [[X90(q1, shape_fun='constant'), Id(q1, length=d), X90(q1, shape_fun='constant')] for d in np.linspace(0, 10e-6, 11)]"
   ],
   "outputs": [],
   "metadata": {}
  },
  {
   "cell_type": "code",
   "execution_count": 10,
   "source": [
    "mf = compile_to_hardware(seq, 'Test')"
   ],
   "outputs": [
    {
     "output_type": "stream",
     "name": "stdout",
     "text": [
      "Compiled 11 sequences.\n"
     ]
    }
   ],
   "metadata": {}
  },
  {
   "cell_type": "code",
   "execution_count": 11,
   "source": [
    "plot_pulse_files(mf)"
   ],
   "outputs": [
    {
     "output_type": "display_data",
     "data": {
      "application/vnd.jupyter.widget-view+json": {
       "version_major": 2,
       "version_minor": 0,
       "model_id": "492c48b96a6f4a3d8c730d6b361bd758"
      },
      "text/plain": [
       "VBox(children=(IntSlider(value=1, description='Segment', max=11, min=1), Figure(animation_duration=50, axes=[A…"
      ]
     },
     "metadata": {}
    }
   ],
   "metadata": {}
  }
 ],
 "metadata": {
  "orig_nbformat": 4,
  "language_info": {
   "name": "python",
   "version": "3.9.6",
   "mimetype": "text/x-python",
   "codemirror_mode": {
    "name": "ipython",
    "version": 3
   },
   "pygments_lexer": "ipython3",
   "nbconvert_exporter": "python",
   "file_extension": ".py"
  },
  "kernelspec": {
   "name": "python3",
   "display_name": "Python 3.9.6 64-bit ('qglEnv': conda)"
  },
  "interpreter": {
   "hash": "652afab92d2625c5791412d83f1444e53603c6cc2d2f546e5d0129839c39ffe7"
  }
 },
 "nbformat": 4,
 "nbformat_minor": 2
}