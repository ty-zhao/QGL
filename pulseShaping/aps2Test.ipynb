{
 "cells": [
  {
   "cell_type": "code",
   "execution_count": 6,
   "source": [
    "from QGL import *\r\n",
    "from nist_APS2_converter import convert\r\n",
    "import json\r\n",
    "import numpy as np"
   ],
   "outputs": [],
   "metadata": {}
  },
  {
   "cell_type": "code",
   "execution_count": 7,
   "source": [
    "#ChannelLibrary setup\r\n",
    "# cl = ChannelLibrary(\"NIST\")\r\n",
    "\r\n",
    "# q1 = cl.new_qubit(\"q1\")\r\n",
    "# q2 = cl.new_qubit(\"q2\")\r\n",
    "\r\n",
    "# aps2_1 = cl.new_APS2(\"BBNAPS2_1\", address=\"192.168.2.2\")\r\n",
    "# aps2_2 = cl.new_APS2(\"BBNAPS2_2\", address=\"192.168.2.3\")\r\n",
    "# aps2_3 = cl.new_APS2(\"BBNAPS2_3\", address=\"192.168.2.4\")\r\n",
    "# aps2_4 = cl.new_APS2(\"BBNAPS2_4\", address=\"192.168.2.5\")\r\n",
    "# aps2_5 = cl.new_APS2(\"BBNAPS2_5\", address=\"192.168.2.6\")\r\n",
    "# aps2_6 = cl.new_APS2(\"BBNAPS2_6\", address=\"192.168.2.7\")\r\n",
    "\r\n",
    "# dig = cl.new_Alazar(\"Alazar\", address=0)\r\n",
    "\r\n",
    "# TDM = cl.new_TDM(\"TDM\", address=\"192.168.2.11\")\r\n",
    "\r\n",
    "# cl.set_control(q1, aps2_1)\r\n",
    "# cl.set_control(q2, aps2_2)\r\n",
    "\r\n",
    "# cl.commit()"
   ],
   "outputs": [],
   "metadata": {}
  },
  {
   "cell_type": "code",
   "execution_count": 8,
   "source": [
    "#ChannelLibrary load\r\n",
    "cl = ChannelLibrary(\"NIST\")\r\n",
    "\r\n",
    "q1 = cl[\"q1\"]\r\n",
    "q2 = cl[\"q2\"]"
   ],
   "outputs": [],
   "metadata": {}
  },
  {
   "cell_type": "code",
   "execution_count": 9,
   "source": [
    "seq1 = [[Utheta(q1, length=l, amp=1, frequency=15e6, shape_fun='constant')*Id(q2)] for l in np.linspace(10e-6, 20e-6, 11)]"
   ],
   "outputs": [],
   "metadata": {}
  },
  {
   "cell_type": "code",
   "execution_count": 10,
   "source": [
    "mf = compile_to_hardware(seq1, 'Test1')"
   ],
   "outputs": [
    {
     "output_type": "stream",
     "name": "stdout",
     "text": [
      "Compiled 11 sequences.\n"
     ]
    }
   ],
   "metadata": {}
  },
  {
   "cell_type": "code",
   "execution_count": 11,
   "source": [
    "plot_pulse_files(mf)"
   ],
   "outputs": [
    {
     "output_type": "display_data",
     "data": {
      "application/vnd.jupyter.widget-view+json": {
       "version_major": 2,
       "version_minor": 0,
       "model_id": "29aa5cfff09042aabdc434b0b1047413"
      },
      "text/plain": [
       "VBox(children=(IntSlider(value=1, description='Segment', max=11, min=1), Figure(animation_duration=50, axes=[A…"
      ]
     },
     "metadata": {}
    }
   ],
   "metadata": {}
  },
  {
   "cell_type": "code",
   "execution_count": 12,
   "source": [
    "with open(mf) as f:\r\n",
    "    seqFile = json.load(f)\r\n",
    "\r\n",
    "for seq in list(seqFile['instruments'].values()):\r\n",
    "    convert(seq)"
   ],
   "outputs": [],
   "metadata": {}
  }
 ],
 "metadata": {
  "interpreter": {
   "hash": "44af4d523aa0762b31238aaf78b037118800770ad53f7f85d7bbd6b63787e2b8"
  },
  "kernelspec": {
   "name": "python3",
   "display_name": "Python 3.7.4 64-bit ('qgl': conda)"
  },
  "language_info": {
   "codemirror_mode": {
    "name": "ipython",
    "version": 3
   },
   "file_extension": ".py",
   "mimetype": "text/x-python",
   "name": "python",
   "nbconvert_exporter": "python",
   "pygments_lexer": "ipython3",
   "version": "3.7.4"
  }
 },
 "nbformat": 4,
 "nbformat_minor": 2
}